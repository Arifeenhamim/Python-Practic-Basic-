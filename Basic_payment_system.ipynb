{
  "nbformat": 4,
  "nbformat_minor": 0,
  "metadata": {
    "colab": {
      "provenance": [],
      "authorship_tag": "ABX9TyN1i6/F0OnCL4iBgoXPxjKP",
      "include_colab_link": true
    },
    "kernelspec": {
      "name": "python3",
      "display_name": "Python 3"
    },
    "language_info": {
      "name": "python"
    }
  },
  "cells": [
    {
      "cell_type": "markdown",
      "metadata": {
        "id": "view-in-github",
        "colab_type": "text"
      },
      "source": [
        "<a href=\"https://colab.research.google.com/github/Arifeenhamim/Python-Practice-Basic-/blob/main/Basic_payment_system.ipynb\" target=\"_parent\"><img src=\"https://colab.research.google.com/assets/colab-badge.svg\" alt=\"Open In Colab\"/></a>"
      ]
    },
    {
      "cell_type": "markdown",
      "source": [
        "Write a program to prompt the user for hours and rate per hour using input to compute gross pay. Pay should be the normal rate for hours up to 40 and time-and-a-half for the hourly rate for all hours worked above 40 hours. Put the logic to do the computation of pay in a function called computepay() and use the function to do the computation. The function should return a value. Use 45 hours and a rate of 10.50 per hour to test the program (the pay should be 498.75). You should use input to read a string and float() to convert the string to a number. Do not worry about error checking the user input unless you want to - you can assume the user types numbers properly. Do not name your variable sum or use the sum() function."
      ],
      "metadata": {
        "id": "U1vOnp2ZasEZ"
      }
    },
    {
      "cell_type": "code",
      "source": [
        "def computepay(hours, rate):\n",
        "    if hours > 40:\n",
        "        pay = 40 * rate + (hours - 40) * rate * 1.5\n",
        "    else:\n",
        "        pay = hours * rate\n",
        "    return pay\n",
        "\n",
        "# Prompt the user for input\n",
        "hours_input = input(\"Enter hours: \")\n",
        "rate_input = input(\"Enter rate per hour: \")\n",
        "\n",
        "# Convert input to float\n",
        "hours = float(hours_input)\n",
        "rate = float(rate_input)\n",
        "\n",
        "# Compute the pay using the computepay function\n",
        "pay = computepay(hours, rate)\n",
        "\n",
        "# Print the result\n",
        "print(\"Pay\", pay)"
      ],
      "metadata": {
        "id": "e8IzLy4baswR"
      },
      "execution_count": null,
      "outputs": []
    }
  ]
}