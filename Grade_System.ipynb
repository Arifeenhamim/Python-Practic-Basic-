{
  "nbformat": 4,
  "nbformat_minor": 0,
  "metadata": {
    "colab": {
      "provenance": [],
      "authorship_tag": "ABX9TyO7mIw/eSSenwptcEtKp9l6",
      "include_colab_link": true
    },
    "kernelspec": {
      "name": "python3",
      "display_name": "Python 3"
    },
    "language_info": {
      "name": "python"
    }
  },
  "cells": [
    {
      "cell_type": "markdown",
      "metadata": {
        "id": "view-in-github",
        "colab_type": "text"
      },
      "source": [
        "<a href=\"https://colab.research.google.com/github/Arifeenhamim/Python-Practice-Basic-/blob/main/Grade_System.ipynb\" target=\"_parent\"><img src=\"https://colab.research.google.com/assets/colab-badge.svg\" alt=\"Open In Colab\"/></a>"
      ]
    },
    {
      "cell_type": "code",
      "execution_count": 1,
      "metadata": {
        "colab": {
          "base_uri": "https://localhost:8080/"
        },
        "id": "ZcbsrzEVI6SN",
        "outputId": "0a036ba8-1408-4ec4-d9e3-1f4d9f635a9b"
      },
      "outputs": [
        {
          "output_type": "stream",
          "name": "stdout",
          "text": [
            "Enter score between 0.0 and 1.0: .85\n",
            "B\n"
          ]
        }
      ],
      "source": [
        "score = input(\"Enter score between 0.0 and 1.0: \")\n",
        "try:\n",
        "    score = float(score)\n",
        "    if score < 0.0 or score > 1.0:\n",
        "        print(\"Score out of range. Please enter a score between 0.0 and 1.0\")\n",
        "    elif score >= 0.9:\n",
        "        print(\"A\")\n",
        "    elif score >= 0.8:\n",
        "        print(\"B\")\n",
        "    elif score >= 0.7:\n",
        "        print(\"C\")\n",
        "    elif score >= 0.6:\n",
        "        print(\"D\")\n",
        "    else:\n",
        "        print(\"F\")\n",
        "except ValueError:\n",
        "    print(\"Invalid input. Please enter a numeric value between 0.0 and 1.0\")"
      ]
    }
  ]
}