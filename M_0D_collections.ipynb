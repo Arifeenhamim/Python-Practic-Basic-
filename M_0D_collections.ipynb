{
  "cells": [
    {
      "cell_type": "markdown",
      "metadata": {
        "id": "view-in-github",
        "colab_type": "text"
      },
      "source": [
        "<a href=\"https://colab.research.google.com/github/Arifeenhamim/Python-Practice-Basic-/blob/main/M_0D_collections.ipynb\" target=\"_parent\"><img src=\"https://colab.research.google.com/assets/colab-badge.svg\" alt=\"Open In Colab\"/></a>"
      ]
    },
    {
      "cell_type": "markdown",
      "id": "3c3a48a7",
      "metadata": {
        "id": "3c3a48a7"
      },
      "source": [
        "# Python Lists, Tuples, Dictionaries, & Sets"
      ]
    },
    {
      "cell_type": "markdown",
      "id": "166019b5",
      "metadata": {
        "id": "166019b5"
      },
      "source": [
        "### List\n",
        "\n",
        "- items are stored sequentially\n",
        "- Lists are mutable\n",
        "- can hold on to different data types\n",
        "- use square brackets [] to create a list\n",
        "    \n",
        "\n",
        "### Tuple\n",
        "- ordered list of values\n",
        "- immutable\n",
        "- in many ways, it is simillar to a list; one of the most important difference is that tuples can be used as  KEYs in a dictionary or elements of a SET.\n",
        "- use () to create a tuple\n",
        "    \n",
        "For a Python program, lists and tuples are very similar. It is possible to get by as a programmer using only lists and ignoring tuples. Both lists and tuples hold an ordered collection of items.\n",
        "\n",
        "The primary difference that you will see syntactically is that a list is enclosed by square braces [] and a tuple is enclosed by parenthesis (). The following code defines both list and tuple."
      ]
    },
    {
      "cell_type": "code",
      "source": [
        "# extra practice of list ,tuple and set \n",
        "#set {} , tuple(), lsit[]\n",
        "\n",
        "\n",
        "a=['1','2','3']\n",
        "b=('x','y','z')\n",
        "c={\"hello\",\"hamim\",\"arifeen\"}\n",
        "\n",
        "\n",
        "print(a,type(a))\n",
        "print(b,type(b))\n",
        "print(c,type(c))\n",
        "\n"
      ],
      "metadata": {
        "colab": {
          "base_uri": "https://localhost:8080/"
        },
        "id": "BgJY8m2J5x5i",
        "outputId": "f139b5e0-cff1-423b-bbc5-20264cb8db53"
      },
      "id": "BgJY8m2J5x5i",
      "execution_count": null,
      "outputs": [
        {
          "output_type": "stream",
          "name": "stdout",
          "text": [
            "['1', '2', '3'] <class 'list'>\n",
            "('x', 'y', 'z') <class 'tuple'>\n",
            "{'hamim', 'arifeen', 'hello'} <class 'set'>\n"
          ]
        }
      ]
    },
    {
      "cell_type": "code",
      "source": [
        "\"hello\" in c"
      ],
      "metadata": {
        "colab": {
          "base_uri": "https://localhost:8080/"
        },
        "id": "UiUH4wng8T8Y",
        "outputId": "c8aca9cd-43f6-4c26-8d00-1e27af131d6c"
      },
      "id": "UiUH4wng8T8Y",
      "execution_count": null,
      "outputs": [
        {
          "output_type": "execute_result",
          "data": {
            "text/plain": [
              "True"
            ]
          },
          "metadata": {},
          "execution_count": 34
        }
      ]
    },
    {
      "cell_type": "code",
      "execution_count": null,
      "id": "f7fb88cd",
      "metadata": {
        "colab": {
          "base_uri": "https://localhost:8080/"
        },
        "id": "f7fb88cd",
        "outputId": "3e253397-2c14-4691-b45d-a230de6f40fc"
      },
      "outputs": [
        {
          "output_type": "stream",
          "name": "stdout",
          "text": [
            "['a', 'b', 1, 2]\n",
            "(3.3, 4.7, 'c', 'd')\n"
          ]
        }
      ],
      "source": [
        "l = ['a', 'b', 1, 2]  # list\n",
        "t = ( 3.3, 4.7, 'c', 'd')  #tuple  d=-1, c=-2, 4.7= -3, 3.3=-4\n",
        "\n",
        "print(l)\n",
        "print(t)"
      ]
    },
    {
      "cell_type": "code",
      "execution_count": null,
      "id": "d1ea158f",
      "metadata": {
        "colab": {
          "base_uri": "https://localhost:8080/"
        },
        "id": "d1ea158f",
        "outputId": "ff91fbdb-e6dc-42c2-f2df-91ac2830432e"
      },
      "outputs": [
        {
          "output_type": "stream",
          "name": "stdout",
          "text": [
            "1 4.7 4.7 3.3\n"
          ]
        }
      ],
      "source": [
        "print(l[2], t[1], t[-3],t[-4])"
      ]
    },
    {
      "cell_type": "code",
      "execution_count": null,
      "id": "ed8b8201",
      "metadata": {
        "id": "ed8b8201",
        "outputId": "bd4ad69a-c167-4390-c51b-0471cd8ff332"
      },
      "outputs": [
        {
          "name": "stdout",
          "output_type": "stream",
          "text": [
            "3.3\n",
            "4.7\n",
            "c\n",
            "d\n"
          ]
        }
      ],
      "source": [
        "for i in t:\n",
        "    print(i)"
      ]
    },
    {
      "cell_type": "code",
      "execution_count": null,
      "id": "903080bd",
      "metadata": {
        "colab": {
          "base_uri": "https://localhost:8080/"
        },
        "id": "903080bd",
        "outputId": "f3489ae5-021e-42ae-c300-e9633a69e8b5"
      },
      "outputs": [
        {
          "output_type": "stream",
          "name": "stdout",
          "text": [
            "0:a\n",
            "1:b\n",
            "2:1\n",
            "3:2\n"
          ]
        }
      ],
      "source": [
        "# problem\n",
        "\n",
        "for i,v in enumerate(l):\n",
        "    print(f\"{i}:{v}\")"
      ]
    },
    {
      "cell_type": "code",
      "execution_count": null,
      "id": "6ec81d38",
      "metadata": {
        "id": "6ec81d38",
        "outputId": "927a952d-21b1-4148-bbfb-9b95441f4273"
      },
      "outputs": [
        {
          "name": "stdout",
          "output_type": "stream",
          "text": [
            "['a', 'b', 'c', 'c']\n"
          ]
        }
      ],
      "source": [
        "c = []\n",
        "c.append('a')\n",
        "c.append('b')\n",
        "c.append('c')\n",
        "c.append('c')\n",
        "print(c)"
      ]
    },
    {
      "cell_type": "code",
      "execution_count": null,
      "id": "b6b02ada",
      "metadata": {
        "colab": {
          "base_uri": "https://localhost:8080/"
        },
        "id": "b6b02ada",
        "outputId": "f2affa0a-f543-4efb-e407-93af9b2d0374"
      },
      "outputs": [
        {
          "output_type": "stream",
          "name": "stdout",
          "text": [
            "['a', 'b', 'c', 'b']\n",
            "['a0', 'a', 'b', 'c', 'b']\n",
            "['a0', 'a', 'c', 'b']\n",
            "['a0', 'c', 'b']\n"
          ]
        }
      ],
      "source": [
        "# Insert\n",
        "c = ['a', 'b', 'c', 'b']\n",
        "print(c)\n",
        "c.insert(0, 'a0')  # 0 no position a a0 insert/add koro\n",
        "print(c)\n",
        "# Remove\n",
        "c.remove('b')\n",
        "print(c)\n",
        "\n",
        "# Remove at index\n",
        "\n",
        "del c[1]\n",
        "print(c)"
      ]
    },
    {
      "cell_type": "code",
      "source": [
        "a=['a','4','45']\n",
        "print(a)\n",
        "a.insert(2,'65')  # 3 no position a 45 a jaigai 65 insert kora hoilo\n",
        "print(a)\n",
        "\n",
        "a.remove('4')\n",
        "print(a)\n",
        "\n",
        "del a[1]\n",
        "print(a)"
      ],
      "metadata": {
        "colab": {
          "base_uri": "https://localhost:8080/"
        },
        "id": "yY6ycbpHwt-g",
        "outputId": "f6b22be5-cebb-425a-d70a-76266719d85a"
      },
      "id": "yY6ycbpHwt-g",
      "execution_count": null,
      "outputs": [
        {
          "output_type": "stream",
          "name": "stdout",
          "text": [
            "['a', '4', '45']\n",
            "['a', '4', '65', '45']\n",
            "['a', '65', '45']\n",
            "['a', '45']\n"
          ]
        }
      ]
    },
    {
      "cell_type": "code",
      "execution_count": null,
      "id": "fe821ba6",
      "metadata": {
        "colab": {
          "base_uri": "https://localhost:8080/"
        },
        "id": "fe821ba6",
        "outputId": "bd40e4cb-8f66-4512-ea34-37178798bcf5"
      },
      "outputs": [
        {
          "output_type": "stream",
          "name": "stdout",
          "text": [
            "[['a', 'b', 'c'], [1, 2, 3, 4, 5, 6, 7, 8], ['One', 'Two']]\n"
          ]
        }
      ],
      "source": [
        "listOfLists = [\n",
        "    ['a','b','c'],        #0\n",
        "    [1,2,3,4,5,6,7,8],    #1\n",
        "    ['One','Two']         #2\n",
        "]\n",
        "print(listOfLists)"
      ]
    },
    {
      "cell_type": "code",
      "execution_count": null,
      "id": "c5a5767d",
      "metadata": {
        "colab": {
          "base_uri": "https://localhost:8080/"
        },
        "id": "c5a5767d",
        "outputId": "f3ca9313-5f12-4643-ccb3-f6a0323e1d3c"
      },
      "outputs": [
        {
          "output_type": "stream",
          "name": "stdout",
          "text": [
            "One\n"
          ]
        }
      ],
      "source": [
        "print(listOfLists[2][0])"
      ]
    },
    {
      "cell_type": "markdown",
      "id": "d5f13ebe",
      "metadata": {
        "id": "d5f13ebe"
      },
      "source": [
        "### Sets\n",
        "\n",
        "A Python set holds an unordered collection of objects, but sets do not allow duplicates. If a program adds a duplicate item to a set, only one copy of each item remains in the collection. Adding a duplicate item to a set does not result in an error. Any of the following techniques will define a set.\n",
        "\n",
        "A list is always enclosed in square braces [], a tuple in parenthesis (), and now we see that the programmer encloses a set in curly braces. Programs can add items to a set as they run. Programs can dynamically add items to a set with the add function. It is important to note that the append function adds items to lists and tuples, whereas the add function adds items to a set."
      ]
    },
    {
      "cell_type": "code",
      "execution_count": null,
      "id": "b6d7c212",
      "metadata": {
        "id": "b6d7c212",
        "outputId": "f16bd4e7-f1d4-4a47-afa6-f094be6db413"
      },
      "outputs": [
        {
          "name": "stdout",
          "output_type": "stream",
          "text": [
            "{'EEE', 'BBA', 'MBA', 'ARCHI'} <class 'set'>\n"
          ]
        }
      ],
      "source": [
        "depts = {\"MBA\",\"EEE\",\"BBA\",\"ARCHI\"}\n",
        "print(depts, type(depts))"
      ]
    },
    {
      "cell_type": "code",
      "execution_count": null,
      "id": "6e812971",
      "metadata": {
        "id": "6e812971",
        "outputId": "b3fc3782-9e26-4367-960b-dc5f25685644"
      },
      "outputs": [
        {
          "name": "stdout",
          "output_type": "stream",
          "text": [
            "{'EEE', 'MBA', 'CS', 'BBA', 'ARCHI'}\n"
          ]
        }
      ],
      "source": [
        "depts.add(\"CS\")\n",
        "print(depts)"
      ]
    },
    {
      "cell_type": "code",
      "execution_count": null,
      "id": "a684ea9d",
      "metadata": {
        "id": "a684ea9d",
        "outputId": "b894c9a5-4082-4623-aae0-32fdfb20641f"
      },
      "outputs": [
        {
          "name": "stdout",
          "output_type": "stream",
          "text": [
            "{'EEE', 'MBA', 'CS', 'BBA'}\n"
          ]
        }
      ],
      "source": [
        "depts.remove(\"ARCHI\")\n",
        "print(depts)"
      ]
    },
    {
      "cell_type": "code",
      "execution_count": null,
      "id": "afb5961d",
      "metadata": {
        "id": "afb5961d",
        "outputId": "1abc084e-5980-497a-e89d-95664f785375"
      },
      "outputs": [
        {
          "data": {
            "text/plain": [
              "True"
            ]
          },
          "execution_count": 22,
          "metadata": {},
          "output_type": "execute_result"
        }
      ],
      "source": [
        "\"CS\" in depts"
      ]
    },
    {
      "cell_type": "code",
      "execution_count": null,
      "id": "d0e5e931",
      "metadata": {
        "id": "d0e5e931",
        "outputId": "e3911547-b531-46c7-e0fb-05ed4552fc31"
      },
      "outputs": [
        {
          "data": {
            "text/plain": [
              "False"
            ]
          },
          "execution_count": 20,
          "metadata": {},
          "output_type": "execute_result"
        }
      ],
      "source": [
        "\"ARCHI\" in depts"
      ]
    },
    {
      "cell_type": "markdown",
      "id": "2cbffae7",
      "metadata": {
        "id": "2cbffae7"
      },
      "source": [
        "### Maps/Dictionaries/Hash Tables\n",
        "\n",
        "Many programming languages include the concept of a map, dictionary, or hash table. These are all very related concepts. Python provides a dictionary, that is essentially a collection of name-value pairs. Programs define dictionaries using curly-braces, as seen here."
      ]
    },
    {
      "cell_type": "code",
      "execution_count": null,
      "id": "9f9431f6",
      "metadata": {
        "id": "9f9431f6",
        "outputId": "8fe40c21-e0c9-4630-c5c2-03dcef4cd6f2"
      },
      "outputs": [
        {
          "name": "stdout",
          "output_type": "stream",
          "text": [
            "{'mahedi': 93.77, 'rabbi': 94.0, 'ahsan': 92.5} <class 'dict'>\n"
          ]
        }
      ],
      "source": [
        "std = {'mahedi': 93.77, 'rabbi': 94.00, 'ahsan': 92.5}\n",
        "print(std, type(std))"
      ]
    },
    {
      "cell_type": "code",
      "source": [],
      "metadata": {
        "id": "q4nZ1-n3el8D"
      },
      "id": "q4nZ1-n3el8D",
      "execution_count": null,
      "outputs": []
    },
    {
      "cell_type": "code",
      "execution_count": null,
      "id": "6f63ad70",
      "metadata": {
        "id": "6f63ad70",
        "outputId": "3df71fb3-9a0f-49db-a18f-f60cf78847ba"
      },
      "outputs": [
        {
          "name": "stdout",
          "output_type": "stream",
          "text": [
            "94.0\n"
          ]
        }
      ],
      "source": [
        "print(std['rabbi'])"
      ]
    },
    {
      "cell_type": "code",
      "execution_count": null,
      "id": "f00f12aa",
      "metadata": {
        "id": "f00f12aa",
        "outputId": "dace9d60-240e-41a9-ff3c-c5ae8a9bc9b8"
      },
      "outputs": [
        {
          "data": {
            "text/plain": [
              "93.77"
            ]
          },
          "execution_count": 27,
          "metadata": {},
          "output_type": "execute_result"
        }
      ],
      "source": [
        "std.get('mahedi', 'default')"
      ]
    },
    {
      "cell_type": "code",
      "execution_count": null,
      "id": "29eb7dce",
      "metadata": {
        "id": "29eb7dce",
        "outputId": "8cce367d-7ebc-4526-bd64-6242445a56d0"
      },
      "outputs": [
        {
          "name": "stdout",
          "output_type": "stream",
          "text": [
            "Key: dict_keys(['mahedi', 'rabbi', 'ahsan'])\n"
          ]
        }
      ],
      "source": [
        "print(f\"Key: {std.keys()}\")"
      ]
    },
    {
      "cell_type": "code",
      "execution_count": null,
      "id": "edda2135",
      "metadata": {
        "id": "edda2135",
        "outputId": "edf12ff0-56bb-4af2-bd84-b3a11068fd07"
      },
      "outputs": [
        {
          "name": "stdout",
          "output_type": "stream",
          "text": [
            "Values: dict_values([93.77, 94.0, 92.5])\n"
          ]
        }
      ],
      "source": [
        "print(f\"Values: {std.values()}\")"
      ]
    },
    {
      "cell_type": "code",
      "execution_count": null,
      "id": "441e6d2d",
      "metadata": {
        "id": "441e6d2d",
        "outputId": "266a5896-f0de-4076-af56-d3e9559dff67"
      },
      "outputs": [
        {
          "name": "stdout",
          "output_type": "stream",
          "text": [
            "person\n",
            "cat\n",
            "dog\n",
            "spider\n"
          ]
        }
      ],
      "source": [
        "d = {'person': 2, 'cat': 4, 'dog': 4, 'spider': 8}\n",
        "for obs in d:\n",
        "    print(obs)"
      ]
    },
    {
      "cell_type": "code",
      "execution_count": null,
      "id": "43398a64",
      "metadata": {
        "id": "43398a64",
        "outputId": "092fe506-d2b0-4a9f-8a32-301bca7ca91e"
      },
      "outputs": [
        {
          "name": "stdout",
          "output_type": "stream",
          "text": [
            "A person has 2 legs\n",
            "A cat has 4 legs\n",
            "A dog has 4 legs\n",
            "A spider has 8 legs\n"
          ]
        }
      ],
      "source": [
        "for obs in d:\n",
        "    legs = d[obs]\n",
        "    print('A %s has %d legs' % (obs, legs))"
      ]
    },
    {
      "cell_type": "code",
      "execution_count": null,
      "id": "87fc21c6",
      "metadata": {
        "id": "87fc21c6",
        "outputId": "02c47427-2f79-43de-a741-9ec82094df35"
      },
      "outputs": [
        {
          "name": "stdout",
          "output_type": "stream",
          "text": [
            "A person has 2 legs\n",
            "A cat has 4 legs\n",
            "A dog has 4 legs\n",
            "A spider has 8 legs\n"
          ]
        }
      ],
      "source": [
        "for obs,legs in d.items():\n",
        "    print('A %s has %d legs' % (obs, legs))"
      ]
    },
    {
      "cell_type": "markdown",
      "id": "e0c38f7f",
      "metadata": {
        "id": "e0c38f7f"
      },
      "source": [
        "### Advanced operations"
      ]
    },
    {
      "cell_type": "code",
      "execution_count": null,
      "id": "43c2570d",
      "metadata": {
        "colab": {
          "base_uri": "https://localhost:8080/"
        },
        "id": "43c2570d",
        "outputId": "e0bb43ae-822e-4c52-a60d-bde8b365621e"
      },
      "outputs": [
        {
          "output_type": "stream",
          "name": "stdout",
          "text": [
            "[1, 2, 3]\n",
            "[1, 2]\n",
            "[4, 5, 6]\n",
            "[1, 2, 3, 4, 5]\n",
            "[3, 4, 5]\n",
            "[2, 3, 4, 5]\n",
            "[3, 4]\n"
          ]
        }
      ],
      "source": [
        "a = [1,2,3,4,5,6]\n",
        "print(a[0:3]) # slicing operator\n",
        "print(a[:2])  # 2  porjonto ja ase\n",
        "print(a[3:])  # 3 r por ja ase\n",
        "print(a[:-1])\n",
        "print(a[2:-1]) # 1 dia 2 and last dia -2\n",
        "print(a[1:-1])\n",
        "print(a[2:-2])"
      ]
    },
    {
      "cell_type": "code",
      "execution_count": null,
      "id": "1184705e",
      "metadata": {
        "id": "1184705e",
        "outputId": "d1c87e34-5d8d-4b66-b28e-5e30deb8b788"
      },
      "outputs": [
        {
          "name": "stdout",
          "output_type": "stream",
          "text": [
            "<zip object at 0x0000016FF8588DC0>\n",
            "[(1, 5), (2, 4), (3, 3), (4, 2), (5, 1)]\n"
          ]
        }
      ],
      "source": [
        "a = [1,2,3,4,5]\n",
        "b = [5,4,3,2,1]\n",
        "\n",
        "print(zip(a,b))   \n",
        "print(list(zip(a,b)))"
      ]
    },
    {
      "cell_type": "markdown",
      "source": [
        "zip r ki kaj ***8"
      ],
      "metadata": {
        "id": "s6vtuGHn9U_2"
      },
      "id": "s6vtuGHn9U_2"
    },
    {
      "cell_type": "code",
      "execution_count": null,
      "id": "f4390eed",
      "metadata": {
        "id": "f4390eed",
        "outputId": "c1edd348-a710-4954-ce90-1a52131bfdb2"
      },
      "outputs": [
        {
          "name": "stdout",
          "output_type": "stream",
          "text": [
            "1 - 5 ==> -4\n",
            "2 - 4 ==> -2\n",
            "3 - 3 ==> 0\n",
            "4 - 2 ==> 2\n",
            "5 - 1 ==> 4\n"
          ]
        }
      ],
      "source": [
        "for x,y in zip(a,b):\n",
        "    print(f'{x} - {y} ==> {x-y}')"
      ]
    },
    {
      "cell_type": "code",
      "execution_count": null,
      "id": "69e6e517",
      "metadata": {
        "id": "69e6e517",
        "outputId": "cb8f34a4-a0a6-4211-a766-b66dba4bc57e"
      },
      "outputs": [
        {
          "name": "stdout",
          "output_type": "stream",
          "text": [
            "[(1, 5), (2, 4), (3, 3)]\n"
          ]
        }
      ],
      "source": [
        "a = [1,2,3,4,5]\n",
        "b = [5,4,3]\n",
        "\n",
        "print(list(zip(a,b)))"
      ]
    },
    {
      "cell_type": "code",
      "execution_count": null,
      "id": "48c2374b",
      "metadata": {
        "id": "48c2374b",
        "outputId": "1b8fa358-9d3a-4b2e-aa92-d298bb42d285"
      },
      "outputs": [
        {
          "name": "stdout",
          "output_type": "stream",
          "text": [
            "[0, 1, 4, 9, 16, 25, 36, 49, 64, 81]\n"
          ]
        }
      ],
      "source": [
        "arr1 = [0,1,2,3,4,5,6,7,8,9]\n",
        "arr2 = []\n",
        "# avoid doing this !!!!\n",
        "for a in arr1:\n",
        "    arr2.append(a**2)\n",
        "print(arr2)"
      ]
    },
    {
      "cell_type": "markdown",
      "id": "4083673f",
      "metadata": {
        "id": "4083673f"
      },
      "source": [
        "### List Comprehension"
      ]
    },
    {
      "cell_type": "code",
      "execution_count": null,
      "id": "7760b126",
      "metadata": {
        "id": "7760b126",
        "outputId": "1d879eb9-f169-4052-82e8-c419de0587a7"
      },
      "outputs": [
        {
          "name": "stdout",
          "output_type": "stream",
          "text": [
            "[0, 1, 2, 3, 4, 5, 6, 7, 8, 9]\n"
          ]
        }
      ],
      "source": [
        "arr1 = [0,1,2,3,4,5,6,7,8,9]\n",
        "arr1_copy = [i for i in arr1]\n",
        "print(arr1_copy)"
      ]
    },
    {
      "cell_type": "code",
      "execution_count": null,
      "id": "21ec3544",
      "metadata": {
        "id": "21ec3544",
        "outputId": "fb77cd74-95ac-49f0-d116-8ce2ce599d15"
      },
      "outputs": [
        {
          "name": "stdout",
          "output_type": "stream",
          "text": [
            "[0, 1, 4, 9, 16, 25, 36, 49, 64, 81]\n"
          ]
        }
      ],
      "source": [
        "sq = [a**2 for a in arr1]\n",
        "print(sq)"
      ]
    },
    {
      "cell_type": "code",
      "execution_count": null,
      "id": "0b08615f",
      "metadata": {
        "id": "0b08615f",
        "outputId": "7abb2ec2-be36-4098-8c9c-837cb2c06f6c"
      },
      "outputs": [
        {
          "name": "stdout",
          "output_type": "stream",
          "text": [
            "[0, 4, 16, 36, 64]\n"
          ]
        }
      ],
      "source": [
        "sq_even = [x**2 for x in arr1 if x%2 == 0]\n",
        "print(sq_even)"
      ]
    },
    {
      "cell_type": "code",
      "execution_count": null,
      "id": "e5944694",
      "metadata": {
        "id": "e5944694",
        "outputId": "6340b507-2db3-4b27-c6e7-5f28a66f0ad2"
      },
      "outputs": [
        {
          "name": "stdout",
          "output_type": "stream",
          "text": [
            "{(0, 0): (0, 0), (1, 1): (1, 1), (2, 2): (2, 4), (3, 3): (3, 9), (4, 4): (4, 16), (5, 5): (5, 25), (6, 6): (6, 36), (7, 7): (7, 49), (8, 8): (8, 64), (9, 9): (9, 81)}\n"
          ]
        }
      ],
      "source": [
        "d = {(a,a): (a,a**2) for a in range(10)}\n",
        "print(d)"
      ]
    },
    {
      "cell_type": "code",
      "execution_count": null,
      "id": "5e83f718",
      "metadata": {
        "id": "5e83f718",
        "outputId": "b92b0017-449d-4ce1-e71d-b9cf3e02b298"
      },
      "outputs": [
        {
          "name": "stdout",
          "output_type": "stream",
          "text": [
            "(5, 25)\n"
          ]
        }
      ],
      "source": [
        "print(d[(5,5)])"
      ]
    },
    {
      "cell_type": "code",
      "execution_count": null,
      "id": "e3cafc4e",
      "metadata": {
        "id": "e3cafc4e"
      },
      "outputs": [],
      "source": []
    }
  ],
  "metadata": {
    "kernelspec": {
      "display_name": "tf24_py38_gpu",
      "language": "python",
      "name": "tf24_gpu"
    },
    "language_info": {
      "codemirror_mode": {
        "name": "ipython",
        "version": 3
      },
      "file_extension": ".py",
      "mimetype": "text/x-python",
      "name": "python",
      "nbconvert_exporter": "python",
      "pygments_lexer": "ipython3",
      "version": "3.8.8"
    },
    "colab": {
      "provenance": [],
      "include_colab_link": true
    }
  },
  "nbformat": 4,
  "nbformat_minor": 5
}