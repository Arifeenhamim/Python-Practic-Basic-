{
  "cells": [
    {
      "cell_type": "markdown",
      "metadata": {
        "id": "view-in-github",
        "colab_type": "text"
      },
      "source": [
        "<a href=\"https://colab.research.google.com/github/Arifeenhamim/Python-Practic-Basic-/blob/main/M_0C_basic_python.ipynb\" target=\"_parent\"><img src=\"https://colab.research.google.com/assets/colab-badge.svg\" alt=\"Open In Colab\"/></a>"
      ]
    },
    {
      "cell_type": "markdown",
      "id": "6f7a28f5",
      "metadata": {
        "id": "6f7a28f5"
      },
      "source": [
        "# Programming basics in python"
      ]
    },
    {
      "cell_type": "markdown",
      "id": "c793840e",
      "metadata": {
        "id": "c793840e"
      },
      "source": [
        "### Numbers (int & float)"
      ]
    },
    {
      "cell_type": "code",
      "execution_count": null,
      "id": "912e303b",
      "metadata": {
        "colab": {
          "base_uri": "https://localhost:8080/"
        },
        "id": "912e303b",
        "outputId": "b4a794fd-6cdb-491c-f999-21fb114bcb41"
      },
      "outputs": [
        {
          "output_type": "stream",
          "name": "stdout",
          "text": [
            "<class 'int'>\n",
            "5\n",
            "addintion 6\n",
            "Subtraction= 4\n",
            "Multiplication= 10\n",
            "Exponentiation= 25\n",
            "this = 6\n",
            "hello 5\n",
            "10\n",
            "<class 'float'>\n",
            "2.5 3.5 5.0 6.25\n"
          ]
        }
      ],
      "source": [
        "x = 5\n",
        "print(type(x)) # Prints \"<class 'int'>\"\n",
        "print(x)       # Prints \"3\"\n",
        "print('addintion',x + 1)   # Addition; prints \"4\"\n",
        "print('Subtraction=',x - 1)   # Subtraction; prints \"2\"\n",
        "print('Multiplication=',x * 2)   # Multiplication; prints \"6\"\n",
        "print('Exponentiation=',x ** 2)  # Exponentiation; prints \"9\" squre hisab a kaj korte ase\n",
        "\n",
        "x += 1\n",
        "print(\"this =\",x)  # Prints \" \"\n",
        "\n",
        "x-= 1\n",
        "print('hello',x)\n",
        "\n",
        "x *= 2\n",
        "print(x)  # Prints \" \"\n",
        "\n",
        "y = 2.5\n",
        "print(type(y)) # Prints \"<class 'float'>\"\n",
        "print(y, y + 1, y * 2, y ** 2) # Prints \"2.5 3.5 5.0 6.25\""
      ]
    },
    {
      "cell_type": "markdown",
      "id": "582b807c",
      "metadata": {
        "id": "582b807c"
      },
      "source": [
        "### Booleans"
      ]
    },
    {
      "cell_type": "code",
      "execution_count": null,
      "id": "dd752f26",
      "metadata": {
        "id": "dd752f26",
        "outputId": "9a196d16-7947-4e1d-a960-e7b06d1f97c3"
      },
      "outputs": [
        {
          "name": "stdout",
          "output_type": "stream",
          "text": [
            "<class 'bool'>\n",
            "False\n",
            "True\n",
            "False\n",
            "True\n"
          ]
        }
      ],
      "source": [
        "# ai part tah buja lakbe\n",
        "\n",
        "t = True\n",
        "f = False\n",
        "print(type(t)) # Prints \"<class 'bool'>\"\n",
        "print(t and f) # Logical AND; prints \"False\"\n",
        "print(t or f)  # Logical OR; prints \"True\"\n",
        "print(not t)   # Logical NOT; prints \"False\"\n",
        "print(t != f)  # Logical XOR; prints \"True\""
      ]
    },
    {
      "cell_type": "markdown",
      "id": "231e526d",
      "metadata": {
        "id": "231e526d"
      },
      "source": [
        "### String"
      ]
    },
    {
      "cell_type": "code",
      "execution_count": null,
      "id": "376e7b37",
      "metadata": {
        "id": "376e7b37",
        "outputId": "7ce349a9-2d08-48b5-f423-ee2b3bfa332f"
      },
      "outputs": [
        {
          "name": "stdout",
          "output_type": "stream",
          "text": [
            "Hello World\n"
          ]
        }
      ],
      "source": [
        "print(\"Hello World\")"
      ]
    },
    {
      "cell_type": "code",
      "execution_count": null,
      "id": "0c44903b",
      "metadata": {
        "id": "0c44903b",
        "outputId": "85f40def-1320-49bc-d909-32456808312e"
      },
      "outputs": [
        {
          "name": "stdout",
          "output_type": "stream",
          "text": [
            "Hello World\n"
          ]
        }
      ],
      "source": [
        "print('Hello World')"
      ]
    },
    {
      "cell_type": "code",
      "execution_count": null,
      "id": "437ad46c",
      "metadata": {
        "id": "437ad46c",
        "outputId": "8155fc2e-7d75-4ba3-cd30-77cfb651bd05"
      },
      "outputs": [
        {
          "name": "stdout",
          "output_type": "stream",
          "text": [
            "Print\n",
            "Multiple\n",
            "Lines\n",
            "\n"
          ]
        }
      ],
      "source": [
        "print(\"\"\"\n",
        "Print Hello this is hamim\n",
        "How are u\n",
        "We are printing Multiple\n",
        "Lines\n",
        "\"\"\")"
      ]
    },
    {
      "cell_type": "code",
      "execution_count": null,
      "id": "ee33b942",
      "metadata": {
        "id": "ee33b942",
        "outputId": "58881b6c-64b6-4bd7-e65c-12d66ef25b89"
      },
      "outputs": [
        {
          "name": "stdout",
          "output_type": "stream",
          "text": [
            "The value of a is 10\n"
          ]
        }
      ],
      "source": [
        "a = 10\n",
        "print(f'The value of a is {a}')   # f dara ki mean kora hoise"
      ]
    },
    {
      "cell_type": "code",
      "execution_count": null,
      "id": "5e43f3ac",
      "metadata": {
        "id": "5e43f3ac",
        "outputId": "a767eaf1-37be-44e7-8b03-a8272ac7ef50"
      },
      "outputs": [
        {
          "name": "stdout",
          "output_type": "stream",
          "text": [
            "The value of a plus 5 is 15\n"
          ]
        }
      ],
      "source": [
        "a = 10\n",
        "print(f'The value of a plus 5 is {a+5}')"
      ]
    },
    {
      "cell_type": "code",
      "execution_count": null,
      "id": "d68ccbe3",
      "metadata": {
        "id": "d68ccbe3",
        "outputId": "b9a5b53f-31bd-42aa-84b8-ae88de89c85b"
      },
      "outputs": [
        {
          "name": "stdout",
          "output_type": "stream",
          "text": [
            "a is 5\n",
            "a is 5\n",
            "a is 5\n",
            "a is 5 5\n"
          ]
        }
      ],
      "source": [
        "a = 5\n",
        "\n",
        "print('a is',a)     # why using f here \n",
        "\n",
        "print(f'a is {a}') # Preferred method for this course.\n",
        "print('a is {}'.format(a))\n",
        "print('a is ' + str(a))\n",
        "print('a is %d %d' % (a, a))"
      ]
    },
    {
      "cell_type": "markdown",
      "id": "8a99055b",
      "metadata": {
        "id": "8a99055b"
      },
      "source": [
        "### Condition checking"
      ]
    },
    {
      "cell_type": "code",
      "execution_count": null,
      "id": "8d478313",
      "metadata": {
        "id": "8d478313",
        "outputId": "8c783143-63e9-4807-bfe1-cc845e045a27"
      },
      "outputs": [
        {
          "name": "stdout",
          "output_type": "stream",
          "text": [
            "The variable a is 5\n",
            "The variable b is also 6\n"
          ]
        }
      ],
      "source": [
        "\n",
        "a = 5\n",
        "b = 6\n",
        "\n",
        "if a==5:\n",
        "    print('The variable a is 5')\n",
        "    if b==6:\n",
        "        print('The variable b is also 6')\n",
        "elif a==6:\n",
        "    print('The variable a is 6')\n",
        "else:\n",
        "    print('anything')\n",
        "\n",
        "\n",
        "\n",
        "# extra practice\n",
        "\n",
        "x=40\n",
        "y=45\n",
        "\n",
        "if x==40:\n",
        "        print('x=6 here')\n",
        "        if y==45:\n",
        "         print('x is alos 45 ')\n",
        "elif x==40:\n",
        "        print('x== also 40')\n",
        "else:\n",
        "        print(\"nothing\")\n",
        "\n"
      ]
    },
    {
      "cell_type": "markdown",
      "id": "5b4ec913",
      "metadata": {
        "id": "5b4ec913"
      },
      "source": [
        "### Looping"
      ]
    },
    {
      "cell_type": "code",
      "execution_count": null,
      "id": "c8075677",
      "metadata": {
        "colab": {
          "base_uri": "https://localhost:8080/"
        },
        "id": "c8075677",
        "outputId": "56d64ede-b850-4212-d4cc-21ce71894a78"
      },
      "outputs": [
        {
          "output_type": "stream",
          "name": "stdout",
          "text": [
            "0\n",
            "1\n",
            "2\n",
            "3\n",
            "4\n",
            "5\n",
            "6\n",
            "7\n",
            "8\n",
            "9\n",
            "10\n",
            "11\n",
            "12\n",
            "13\n",
            "14\n",
            "100\n",
            "150\n",
            "200\n",
            "250\n",
            "300\n",
            "350\n",
            "400\n",
            "450\n"
          ]
        }
      ],
      "source": [
        "for x in range(0, 15):  # If you ever see xrange, you are in Python 2\n",
        "    print(x)\n",
        "\n",
        "\n",
        "for y in range(100,500,50):\n",
        "    print(y)"
      ]
    },
    {
      "cell_type": "code",
      "execution_count": null,
      "id": "f41b99ad",
      "metadata": {
        "id": "f41b99ad",
        "outputId": "f30ebd2f-deb1-4298-c4b2-9844d51c8a4e"
      },
      "outputs": [
        {
          "name": "stdout",
          "output_type": "stream",
          "text": [
            "test:  10\n",
            "test:  9\n",
            "test:  8\n",
            "test:  7\n",
            "test:  6\n",
            "test:  5\n",
            "test:  4\n",
            "test:  3\n",
            "test:  2\n"
          ]
        }
      ],
      "source": [
        "for i in range(10,1,-1):\n",
        "    # range(start (optional, default 0), end (exclusive), inc/dec (optional, default 1))\n",
        "    print('test: ', i)\n",
        "\n",
        "\n",
        "\n",
        "for a in range(800,100,-50):\n",
        "    print(\"this is a practice \",a)\n"
      ]
    },
    {
      "cell_type": "code",
      "execution_count": null,
      "id": "5e3f470c",
      "metadata": {
        "colab": {
          "base_uri": "https://localhost:8080/"
        },
        "id": "5e3f470c",
        "outputId": "7fb8f0c2-94f2-45ee-9737-dc1ed8ec7f48"
      },
      "outputs": [
        {
          "output_type": "stream",
          "name": "stdout",
          "text": [
            "0 + 1 =  1\n",
            "1 + 2 =  3\n",
            "3 + 3 =  6\n",
            "6 + 4 =  10\n",
            "10 + 5 =  15\n",
            "15 + 6 =  21\n",
            "21 + 7 =  28\n",
            "28 + 8 =  36\n",
            "36 + 9 =  45\n",
            "45 + 10 =  55\n",
            "55 + 11 =  66\n",
            "66 + 12 =  78\n",
            "78 + 13 =  91\n",
            "91 + 14 =  105\n",
            "105 + 15 =  120\n",
            "120 + 16 =  136\n",
            "136 + 17 =  153\n",
            "153 + 18 =  171\n",
            "171 + 19 =  190\n",
            "Final sum: 190\n"
          ]
        }
      ],
      "source": [
        "acc = 0\n",
        "for x in range(1, 20):\n",
        "    print(f\"{acc} + {x} =  \", end=\"\")\n",
        "    acc += x\n",
        "    print(acc)\n",
        "\n",
        "print(f\"Final sum: {acc}\")"
      ]
    },
    {
      "cell_type": "code",
      "execution_count": null,
      "id": "9c028b62",
      "metadata": {
        "id": "9c028b62"
      },
      "outputs": [],
      "source": []
    }
  ],
  "metadata": {
    "kernelspec": {
      "display_name": "Python [conda env:.conda-tf24_gpu] *",
      "language": "python",
      "name": "conda-env-.conda-tf24_gpu-py"
    },
    "language_info": {
      "codemirror_mode": {
        "name": "ipython",
        "version": 3
      },
      "file_extension": ".py",
      "mimetype": "text/x-python",
      "name": "python",
      "nbconvert_exporter": "python",
      "pygments_lexer": "ipython3",
      "version": "3.8.8"
    },
    "colab": {
      "provenance": [],
      "include_colab_link": true
    }
  },
  "nbformat": 4,
  "nbformat_minor": 5
}